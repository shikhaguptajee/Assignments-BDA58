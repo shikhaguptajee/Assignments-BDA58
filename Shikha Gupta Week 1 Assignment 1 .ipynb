{
 "cells": [
  {
   "cell_type": "markdown",
   "id": "a51ae159-9ccf-4677-9ea1-5d85de9fb68a",
   "metadata": {},
   "source": [
    "1. Scenario: You have a list of integers, and you need to find the maximum\r\n",
    "value in the list.\r\n",
    "a. Question: How would you find the maximum value from the\r\n",
    "following list?"
   ]
  },
  {
   "cell_type": "code",
   "execution_count": 2,
   "id": "cdb3e0c7-b194-465b-b92f-d3062b000c99",
   "metadata": {},
   "outputs": [
    {
     "name": "stdout",
     "output_type": "stream",
     "text": [
      "The max number is:  10\n"
     ]
    }
   ],
   "source": [
    "num_list = [4,7,8,10,3]\n",
    "max_num = max(num_list)\n",
    "print(\"The max number is: \", max_num)"
   ]
  },
  {
   "cell_type": "markdown",
   "id": "a63c30e8-94e9-4360-bf34-29b916ed2711",
   "metadata": {},
   "source": [
    "2. Scenario: You need to concatenate a list of strings into a single string,\r\n",
    "with each string separated by a comma.\r\n",
    "a. Question: How would you combine the following list of strings into\r\n",
    "a single strig?\r"
   ]
  },
  {
   "cell_type": "code",
   "execution_count": 4,
   "id": "c7bddb12-66e8-4205-99c1-e01d1a5f87eb",
   "metadata": {},
   "outputs": [
    {
     "name": "stdout",
     "output_type": "stream",
     "text": [
      "My name is Shikha, I live in Texas, I am learning Python\n"
     ]
    }
   ],
   "source": [
    "string_1 = \"My name is Shikha\"\n",
    "string_2 = \"I live in Texas\"\n",
    "string_3 = \"I am learning Python\"\n",
    "concatenate_string = string_1 + \", \" + string_2 + \", \"+ string_3\n",
    "print(concatenate_string)"
   ]
  },
  {
   "cell_type": "markdown",
   "id": "23f3c027-3efe-46c4-b692-df9f64016fca",
   "metadata": {},
   "source": [
    "3. Scenario: You have a dictionary where the keys are names and the\r\n",
    "values are ages. You need to retrieve the age of a specific person.\r\n",
    "a. Question: How would you get the age of \"Dev\" from the following\r\n",
    "dictionary?"
   ]
  },
  {
   "cell_type": "code",
   "execution_count": 6,
   "id": "03c15c7a-2592-484b-b608-a7f91da0f806",
   "metadata": {},
   "outputs": [
    {
     "name": "stdout",
     "output_type": "stream",
     "text": [
      "24\n"
     ]
    }
   ],
   "source": [
    "teacher_age = {\"Dev\":24, \"Ram\":35, \"Shyam\":45, \"Hari\":25}\n",
    "print(teacher_age[\"Dev\"])"
   ]
  },
  {
   "cell_type": "markdown",
   "id": "879861c4-2cb3-4b43-bb11-7f6bfff106ee",
   "metadata": {},
   "source": [
    "4. Scenario: You need to remove duplicate elements from a list while\r\n",
    "preserving the original order of elements.\r\n",
    "a. Question: How would you remove duplicates from the following\r\n",
    "list?\r"
   ]
  },
  {
   "cell_type": "code",
   "execution_count": 8,
   "id": "8f761ea3-e118-47d3-b391-e0715e8b6744",
   "metadata": {},
   "outputs": [
    {
     "name": "stdout",
     "output_type": "stream",
     "text": [
      "[1, 2, 3, 4, 5]\n"
     ]
    }
   ],
   "source": [
    "my_list = [1,2,3,4,4,5]\n",
    "unique_list= list(set(my_list))\n",
    "print(unique_list)"
   ]
  },
  {
   "cell_type": "markdown",
   "id": "3141788b-bd82-44f8-9ae0-b6b47a0c1601",
   "metadata": {},
   "source": [
    "5. Scenario: You have a NumPy array and need to compute the sum of all\r\n",
    "its elements.\r\n",
    "a. Question: How would you find the sum of elements in the\r\n",
    "following NumPy array?\r"
   ]
  },
  {
   "cell_type": "code",
   "execution_count": 10,
   "id": "d24c3541-9ca9-4a43-a7ea-7f2ca4373bfe",
   "metadata": {},
   "outputs": [
    {
     "name": "stdout",
     "output_type": "stream",
     "text": [
      "15\n"
     ]
    }
   ],
   "source": [
    "import numpy as np\n",
    "list_array = np.array([1,2,3,4,5])\n",
    "total_sum = np.sum(list_array)\n",
    "print(total_sum)\n"
   ]
  },
  {
   "cell_type": "markdown",
   "id": "47c48a8e-89fa-4ce4-ad41-570ed4c5a639",
   "metadata": {},
   "source": [
    "6. Scenario: You have a 2D NumPy array and need to get the maximum\r\n",
    "value from each column.\r\n",
    "a. Question: How would you find the maximum values for each\r\n",
    "column in the following array?\r"
   ]
  },
  {
   "cell_type": "markdown",
   "id": "8109fa6a-3fd5-4da0-9c10-f5864dc82f40",
   "metadata": {},
   "source": [
    "import numpy as np\n",
    "array_2d = np.array([[1,2,3], [4,5,6], [7,8,9], [10,11,12]])\n",
    "max_vales = np.max(array_2d, axis=0)\n",
    "print(array_2d.shape)\n",
    "print(max_vales)"
   ]
  },
  {
   "cell_type": "markdown",
   "id": "d7e82f78-07bf-44f2-b2d2-4be345c507a2",
   "metadata": {},
   "source": [
    "7. Scenario: You have a DataFrame and need to sort it by a specific column.\r\n",
    "a. Question: How would you sort the DataFrame by the \"Age\"\r\n",
    "column?\r"
   ]
  },
  {
   "cell_type": "code",
   "execution_count": 14,
   "id": "77baddf9-ca50-4f66-a2b1-bc6c68954b74",
   "metadata": {},
   "outputs": [
    {
     "name": "stdout",
     "output_type": "stream",
     "text": [
      "  candidate_name  age\n",
      "1         Shikha   36\n",
      "0         Bikash   40\n",
      "3         Sunita   40\n",
      "5         Shweta   41\n",
      "4          Sunil   43\n",
      "2         Roshan   44\n"
     ]
    }
   ],
   "source": [
    "import pandas as pd\n",
    "data = {\n",
    "  \"candidate_name\": [\"Bikash\", \"Shikha\", \"Roshan\", \"Sunita\", \"Sunil\",\"Shweta\"],\n",
    "  \"age\": [40, 36, 44, 40, 43, 41]\n",
    "}\n",
    "#load data into a DataFrame object:\n",
    "df = pd.DataFrame(data)\n",
    "sorted_df = df.sort_values(by=['age'])\n",
    "print(sorted_df)"
   ]
  },
  {
   "cell_type": "markdown",
   "id": "1028dd54-0323-4221-bc09-4dfc1e027426",
   "metadata": {},
   "source": [
    "8. Scenario: You need to calculate the total sum of a column in a\r\n",
    "DataFrame.\r\n",
    "a. Question: How would you find the sum of the \"Sales\" column?\r"
   ]
  },
  {
   "cell_type": "code",
   "execution_count": 42,
   "id": "1a82562a-dce2-4071-9cee-94b5b2426a25",
   "metadata": {},
   "outputs": [
    {
     "name": "stdout",
     "output_type": "stream",
     "text": [
      "Total_sales: 1900\n"
     ]
    }
   ],
   "source": [
    "import pandas as pd\n",
    "data = {\n",
    "  \"product_name\": [\"product A\", \"product B\", \"product C\", \"product D\"],\n",
    "  \"sales\": [500, 200, 400, 800]\n",
    "}\n",
    "#load data into a DataFrame object:\n",
    "df = pd.DataFrame(data)\n",
    "total_sum = df[\"sales\"].sum()\n",
    "print (\"Total_sales:\",total_sum )"
   ]
  },
  {
   "cell_type": "markdown",
   "id": "e0f2d028-7603-4354-adc4-7eb27adc796e",
   "metadata": {},
   "source": [
    "9. Scenario: You need to check if a variable is of type int.\n",
    "a. Question: How would you verify if a variable x is an integer?\n"
   ]
  },
  {
   "cell_type": "code",
   "execution_count": 47,
   "id": "0b07ab1f-345d-4469-aeec-5ecb0cc607cb",
   "metadata": {},
   "outputs": [
    {
     "name": "stdout",
     "output_type": "stream",
     "text": [
      "<class 'int'>\n"
     ]
    }
   ],
   "source": [
    "my_variable = 42\n",
    "print(type(my_variable))"
   ]
  },
  {
   "cell_type": "markdown",
   "id": "aed3631a-90f7-4b43-935b-374b71b10bf0",
   "metadata": {},
   "source": [
    "10.Scenario: You have a list of mixed types and need to create separate lists\n",
    "for integers, floats, and strings.\n",
    "a. Question: How would you categorize the following mixed list into\n",
    "different types?\n"
   ]
  },
  {
   "cell_type": "code",
   "execution_count": 13,
   "id": "d6ded5a9-7b45-408e-a8fa-9d644643606d",
   "metadata": {},
   "outputs": [
    {
     "name": "stdout",
     "output_type": "stream",
     "text": [
      "integers: [1, 2]\n",
      "floats: [1.45, 2.68]\n",
      "string: ['Sanaya', 'Bikash', 'Shikha']\n"
     ]
    }
   ],
   "source": [
    "list = [1,\"Sanaya\",2, \"Bikash\", 1.45 ,\"Shikha\", 2.68]\n",
    "integers = []\n",
    "floats = []\n",
    "string = []\n",
    "for item in list:\n",
    "    if isinstance(item, int):\n",
    "        integers.append(item)\n",
    "    elif isinstance(item, float):\n",
    "        floats.append(item)\n",
    "    elif isinstance(item, str):\n",
    "        string.append(item)\n",
    "print(\"integers:\", integers)\n",
    "print(\"floats:\", floats)\n",
    "print(\"string:\", string)"
   ]
  },
  {
   "cell_type": "markdown",
   "id": "bf784882-7468-4318-b595-742ea1fdb8ab",
   "metadata": {},
   "source": [
    "11.Scenario: You are given a string of comma-separated numbers. You\r\n",
    "need to convert this string into a list of integers.\r\n",
    "a. Question: How would you achieve this conversion?\r"
   ]
  },
  {
   "cell_type": "code",
   "execution_count": 16,
   "id": "dfb3df27-013b-4881-8678-d5bc0e0bc26b",
   "metadata": {},
   "outputs": [
    {
     "name": "stdout",
     "output_type": "stream",
     "text": [
      "['1', '2', '3', '9', '5', '11']\n"
     ]
    }
   ],
   "source": [
    "num_string = \"1, 2, 3, 9, 5, 11\"\n",
    "int_list = num_string.split(\", \")\n",
    "print(int_list)"
   ]
  },
  {
   "cell_type": "markdown",
   "id": "aab9a8f9-9e2e-4bda-8768-189a3014155a",
   "metadata": {},
   "source": [
    "12.Scenario: You need to reverse the words in a sentence while keeping the\n",
    "order of the words intact.\n",
    "a. Question: How would you reverse each word in the following\n",
    "sentence?\n"
   ]
  },
  {
   "cell_type": "code",
   "execution_count": 27,
   "id": "c7f68db8-ff3c-4c61-b8a3-14f2eed036f8",
   "metadata": {},
   "outputs": [
    {
     "name": "stdout",
     "output_type": "stream",
     "text": [
      "yM eman si ahkihS\n"
     ]
    }
   ],
   "source": [
    "str_name = \"My name is Shikha\"\n",
    "words = str_name.split()\n",
    "reversed_words = [word[::-1] for word in words]\n",
    "reversed_sentence = \" \".join(reversed_words)\n",
    "print(reversed_sentence)"
   ]
  },
  {
   "cell_type": "markdown",
   "id": "c3f21277-0963-43da-8c82-21023b631f44",
   "metadata": {},
   "source": [
    "13.Scenario: You need to combine two lists into a dictionary where the\n",
    "elements of the first list are keys and the elements of the second list are\n",
    "values.\n",
    "a. Question: How would you combine the following lists into a\n",
    "dictionary?\n"
   ]
  },
  {
   "cell_type": "code",
   "execution_count": 32,
   "id": "ae30eda6-3d5b-47f7-8bc7-0f17fedfb84b",
   "metadata": {},
   "outputs": [
    {
     "name": "stdout",
     "output_type": "stream",
     "text": [
      "{'name': 'Shikha', 'age': 35, 'state': 'TX'}\n"
     ]
    }
   ],
   "source": [
    "keys = [\"name\", \"age\", \"state\"]\n",
    "values = [\"Shikha\", 35, \"TX\"]\n",
    "combined_dict = dict(zip(keys,values))\n",
    "print(combined_dict)"
   ]
  },
  {
   "cell_type": "markdown",
   "id": "4ecc3c64-7455-4866-ac3d-12f6646988f8",
   "metadata": {},
   "source": [
    "14.Scenario: You are given a list of tuples where each tuple contains a name\n",
    "and an age. You need to sort this list by age\n",
    "a. Question: How would you sort the following list of tuples by age?"
   ]
  },
  {
   "cell_type": "code",
   "execution_count": 47,
   "id": "f99b0898-e7ef-48a8-9b80-5f9ff83b7f44",
   "metadata": {},
   "outputs": [
    {
     "name": "stdout",
     "output_type": "stream",
     "text": [
      "[(35, 'Shikha'), (40, 'Bikash'), (41, 'Sweta'), (44, 'Sunil')]\n"
     ]
    }
   ],
   "source": [
    "name_age_tuple = [(40, \"Bikash\"), (35, \"Shikha\"), (44, \"Sunil\"), (41, \"Sweta\")]\n",
    "name_age_tuple.sort()\n",
    "print(name_age_tuple)"
   ]
  },
  {
   "cell_type": "markdown",
   "id": "975f5978-d07b-49d9-a668-be0840b475a1",
   "metadata": {},
   "source": [
    "15.Scenario: You have a 2D NumPy array and need to calculate the mean\n",
    "value of each row.\n",
    "a. Question: How would you compute the mean value for each row\n",
    "in the following array?"
   ]
  },
  {
   "cell_type": "code",
   "execution_count": 51,
   "id": "8d0596c9-d9f7-4828-b96f-7a66f5ae41a2",
   "metadata": {},
   "outputs": [
    {
     "name": "stdout",
     "output_type": "stream",
     "text": [
      "[8. 5. 2.]\n"
     ]
    }
   ],
   "source": [
    "import numpy as np\n",
    "array_2d = np.array([[7, 8, 9],\n",
    "                     [4, 5, 6],\n",
    "                     [1, 2, 3]])\n",
    "row_means = np.mean(array_2d, axis=1)\n",
    "print(row_means)"
   ]
  },
  {
   "cell_type": "markdown",
   "id": "409feda7-52f7-4647-b077-9462b3928201",
   "metadata": {},
   "source": [
    "16.Scenario: You need to create a NumPy array of size 10 filled with zeros,\n",
    "and then set the fifth element to 5.\n",
    "a. Question: How would you create and modify the array as\n",
    "described?"
   ]
  },
  {
   "cell_type": "code",
   "execution_count": 64,
   "id": "42f8ccb0-c9ab-4502-a3ed-1637c0093f5d",
   "metadata": {},
   "outputs": [
    {
     "name": "stdout",
     "output_type": "stream",
     "text": [
      "[22 33 44 55  0 20 35 99  0 10]\n",
      "[22 33 44 55  5 20 35 99  0 10]\n"
     ]
    }
   ],
   "source": [
    "import numpy as np\n",
    "num_array = np.array([22, 33, 44, 55, 0, 20, 35, 99, 0, 10])\n",
    "print(num_array)\n",
    "num_array[4] =5\n",
    "print(num_array)"
   ]
  },
  {
   "cell_type": "markdown",
   "id": "0b38f124-0eb4-4fce-86d6-c1339fce7b02",
   "metadata": {},
   "source": [
    "17.Scenario: You have a DataFrame and need to find the median of a\n",
    "numeric column.\n",
    "a. Question: How would you find the median of the \"Scores\" column\n",
    "in the following DataFrame?"
   ]
  },
  {
   "cell_type": "code",
   "execution_count": 83,
   "id": "fc11e29d-c82c-40a3-85ee-273f82053155",
   "metadata": {},
   "outputs": [
    {
     "name": "stdout",
     "output_type": "stream",
     "text": [
      "scores    27.0\n",
      "dtype: float64\n"
     ]
    }
   ],
   "source": [
    "import pandas as pd\n",
    "data = {\n",
    "    \"scores\": [25, 55, 12, 27, 35]\n",
    "}\n",
    "df = pd.DataFrame(data)\n",
    "medians = df.median()\n",
    "print(medians)"
   ]
  },
  {
   "cell_type": "markdown",
   "id": "e558a641-9259-4955-b1f6-f3d668da417d",
   "metadata": {},
   "source": [
    "18.Scenario: You need to filter rows where the value in the \"Sales\" column\n",
    "is above 100 and then sort these rows by \"Date\" in descending order.\n",
    "a. Question: How would you filter and sort the DataFrame based on\n",
    "the given criteria?"
   ]
  },
  {
   "cell_type": "code",
   "execution_count": 106,
   "id": "e22b88f3-a94c-4463-863d-f6fc513ed9a1",
   "metadata": {},
   "outputs": [
    {
     "name": "stdout",
     "output_type": "stream",
     "text": [
      "   Sales        Date\n",
      "2    200  2024-05-01\n",
      "1    300  2024-02-23\n"
     ]
    }
   ],
   "source": [
    "import pandas as pd\n",
    "data = {\n",
    "    \"Sales\": [100, 300, 200, 80, 30],\n",
    "    \"Date\": [\"2024-01-10\", \"2024-02-23\", \"2024-05-01\", \"2024-09-10\", \"2024-07-19\"]    \n",
    "}\n",
    "df = pd.DataFrame(data)\n",
    "filter_df = df[df[\"Sales\"]> 100]\n",
    "sort_df = filter_df.sort_values(\"Date\", ascending = False )\n",
    "print(sort_df)"
   ]
  },
  {
   "cell_type": "markdown",
   "id": "e5a10c4a-8f15-4d03-8ea6-fa2a0d3cae69",
   "metadata": {},
   "source": [
    "19.Scenario: You have a string containing a number and need to convert it\n",
    "to an integer. Additionally, handle the case where the string might not\n",
    "represent a valid integer.\n",
    "a. Question: How would you safely convert the string \"42\" to an\n",
    "integer and handle invalid cases?\n"
   ]
  },
  {
   "cell_type": "code",
   "execution_count": 134,
   "id": "35fddbb5-c5ee-4072-bc69-871dfe11d9ff",
   "metadata": {},
   "outputs": [
    {
     "name": "stdout",
     "output_type": "stream",
     "text": [
      "This is not an integer.\n"
     ]
    }
   ],
   "source": [
    "str_int = \"abc\"\n",
    "try:\n",
    "    int_num = int(str_int)\n",
    "    print(int_num)\n",
    "except ValueError:\n",
    "    print(\"This is not an integer.\")"
   ]
  },
  {
   "cell_type": "markdown",
   "id": "487a683c-73c5-4a55-8693-019fca065716",
   "metadata": {},
   "source": [
    "20.Scenario: You have a list containing different data types, and you want\n",
    "to separate out all the strings.\n",
    "a. Question: How would you extract all string elements from the\n",
    "following list?"
   ]
  },
  {
   "cell_type": "code",
   "execution_count": 137,
   "id": "b4b9d7f6-6add-4725-a736-dbf3925d2ce1",
   "metadata": {},
   "outputs": [
    {
     "name": "stdout",
     "output_type": "stream",
     "text": [
      "string: ['Sanaya', 'Bikash', 'Shikha']\n"
     ]
    }
   ],
   "source": [
    "list = [1,\"Sanaya\",2, \"Bikash\", 1.45 ,\"Shikha\", 2.68]\n",
    "string = []\n",
    "for item in list:\n",
    "    if isinstance(item, str):\n",
    "        string.append(item)\n",
    "print(\"string:\", string)"
   ]
  },
  {
   "cell_type": "code",
   "execution_count": null,
   "id": "ff5940ff-5253-40df-8e8d-a07e8aa7aebd",
   "metadata": {},
   "outputs": [],
   "source": []
  }
 ],
 "metadata": {
  "kernelspec": {
   "display_name": "Python 3 (ipykernel)",
   "language": "python",
   "name": "python3"
  },
  "language_info": {
   "codemirror_mode": {
    "name": "ipython",
    "version": 3
   },
   "file_extension": ".py",
   "mimetype": "text/x-python",
   "name": "python",
   "nbconvert_exporter": "python",
   "pygments_lexer": "ipython3",
   "version": "3.12.4"
  }
 },
 "nbformat": 4,
 "nbformat_minor": 5
}
